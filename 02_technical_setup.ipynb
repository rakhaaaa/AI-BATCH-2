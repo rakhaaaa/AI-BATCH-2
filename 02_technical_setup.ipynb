{
  "cells": [
    {
      "cell_type": "markdown",
      "metadata": {
        "id": "KKNaIYJXTyBz"
      },
      "source": [
        "## Welcome!\n",
        "Halo, teman-teman!\n",
        "Selamat datang di perjalanan seru kita belajar **Python untuk AI**! 🚀\n",
        "\n",
        "Di sesi technical setup ini, kita akan **memverifikasi** bahwa prerequisite setup yang sudah kita lakukan berfungsi dengan baik.\n",
        "\n",
        "###  Yang Akan Kita Verifikasi:\n",
        "\n",
        "- **GitHub Codespaces** - Environment utama bootcamp  \n",
        "- **Python & Jupyter** - Ready untuk coding  \n",
        "- **GitHub Copilot** - AI assistant aktif  \n",
        "- **Basic I/O** - Test input/output sederhana  \n",
        "\n",
        "Siap? Yuk, kita cek setup kita! ✨\n",
        "\n",
        "Pastikan teman-teman **sudah melakukan setup pada prerequisite**, jika belum silakan akses tutorial setup GitHub Codespaces berikut: https://colab.research.google.com/drive/18JX2lN3d-r2E6KKTs2jJhiyc3hUuic_Q"
      ]
    },
    {
      "cell_type": "markdown",
      "metadata": {
        "id": "ETJ2i7iLTyB1"
      },
      "source": [
        "## **1. Verifikasi GitHub Codespaces**\n",
        "\n",
        "### Environment Check\n",
        "\n",
        "**Codespaces** adalah environment utama untuk bootcamp ini.\n",
        "\n",
        "### Quick Verification:\n",
        "\n",
        "1. **Cek Python**:\n",
        "   ```bash\n",
        "   python --version\n",
        "   ```\n",
        "   Should show Python 3.8+\n",
        "\n",
        "\n",
        "### File Structure Check\n",
        "Pastikan struktur folder terlihat seperti ini:\n",
        "```\n",
        "   CODESPACES-BLANK/\n",
        "   ├── week-1/\n",
        "   │   ├── 01-motivation.ipynb\n",
        "   │   ├── 02-technical-setup.ipynb\n",
        "   │   └── ...\n",
        "   ├── week-2/\n",
        "   │   ├── 06-data-structures-loops.ipynb\n",
        "   │   ├── 07-oop.ipynb\n",
        "   │   └── ...\n",
        "   └── week-3/\n",
        "       ├── 08-ai-model-and-huggingface.ipynb\n",
        "       ├── 10-nlp-models-and-transformers.ipynb\n",
        "       └── ...\n",
        "   ```\n",
        "\n",
        "✅ **If commands work, Codespaces is ready!**\n",
        "\n"
      ]
    },
    {
      "cell_type": "markdown",
      "source": [
        "## **2. GitHub Codespaces - Full Development Environment**\n",
        "\n",
        "###  VS Code Sudah Ready di Codespaces!\n",
        "Di GitHub Codespaces, **VS Code berjalan langsung di browser** dengan semua fitur lengkap untuk development!\n",
        "\n",
        "###  Fitur Codespaces untuk Bootcamp:\n",
        "1. **Full VS Code experience** - Semua fitur seperti di desktop\n",
        "2. **Extension marketplace** - Python, Copilot, dll sudah ready\n",
        "3. **Integrated terminal** - Run Python, pip, git commands\n",
        "4. **File management** - Upload, download, organize files\n",
        "5. **Project development** - Buat aplikasi lengkap (Streamlit, etc.)\n",
        "6. **Git integration** - Version control dan collaboration\n",
        "\n"
      ],
      "metadata": {
        "id": "q-w3u4weCkwc"
      }
    },
    {
      "cell_type": "markdown",
      "source": [
        "## **3. Verifikasi Jupyter Notebook**\n",
        "\n",
        "### Jupyter Ready Check\n",
        "\n",
        "**Jupyter** extension sudah ter-install untuk interactive coding!\n",
        "\n",
        "### Quick Test:\n",
        "1. **Open** file `.ipynb` ini / file materi yang tersedia\n",
        "2. **Select Kernel** (pilih Python 3.x.x)\n",
        "3. **Run test cell** di beberapa contoh codingan di materi yang tersedia\n"
      ],
      "metadata": {
        "id": "5XwtMhOMCo0Y"
      }
    },
    {
      "cell_type": "markdown",
      "source": [
        "## **4. Verifikasi GitHub Copilot**\n",
        "\n",
        "### AI Assistant Check\n",
        "\n",
        "**GitHub Copilot** untuk AI-assisted coding!\n",
        "\n",
        "### Quick Setup:\n",
        "1. **Check status bar** di bawah - lihat icon Copilot\n",
        "2. **Click icon** atau buka Command Palette (`Ctrl+Shift+P`)\n",
        "3. **Search \"Copilot\"** dan setup jika belum\n",
        "4. **Login** dengan GitHub account\n",
        "\n",
        "### Simple Test:\n",
        "- Buat file baru: `test.py`\n",
        "- Ketik: `# function to add two numbers`\n",
        "- Lihat apakah Copilot memberikan suggestion\n",
        "\n",
        "### Basic Usage:\n",
        "- **Tab** untuk accept suggestion\n",
        "- **Esc** untuk dismiss\n",
        "- **Alt + ]** untuk next suggestion\n",
        "\n",
        "✅ **If Copilot shows suggestions, it's working!**\n",
        "\n",
        "**Note**: Copilot memerlukan subscription, tapi ada trial gratis!"
      ],
      "metadata": {
        "id": "cxpZQsvmC_GZ"
      }
    },
    {
      "cell_type": "markdown",
      "metadata": {
        "id": "RWERM2p7TyB1"
      },
      "source": [
        "### Studi Kasus: Belajar Coding Pakai Komentar\n",
        "#### Python Example 1: Hitung Luas Persegi Panjang"
      ]
    },
    {
      "cell_type": "code",
      "execution_count": null,
      "metadata": {
        "id": "uQgB1vxxTyB1"
      },
      "outputs": [],
      "source": [
        "# Menghitung luas persegi panjang\n",
        "panjang = 10\n",
        "lebar = 5\n",
        "# Luas = panjang * lebar\n",
        "luas = panjang * lebar\n",
        "print(\"Luas persegi panjang adalah:\", luas)"
      ]
    },
    {
      "cell_type": "markdown",
      "metadata": {
        "id": "uKNx1SJGTyB1"
      },
      "source": [
        "#### Python Example 2: Cek Bilangan Ganjil atau Genap"
      ]
    },
    {
      "cell_type": "code",
      "execution_count": null,
      "metadata": {
        "id": "MacQN9MITyB1"
      },
      "outputs": [],
      "source": [
        "# Memeriksa apakah sebuah angka ganjil atau genap\n",
        "angka = 7\n",
        "if angka % 2 == 0:\n",
        "    print(angka, \"adalah angka genap\")\n",
        "else:\n",
        "    print(angka, \"adalah angka ganjil\")"
      ]
    },
    {
      "cell_type": "markdown",
      "metadata": {
        "id": "GGSgyHcLTyB2"
      },
      "source": [
        "## **5. Input/Output (I/O) di Python**\n",
        "\n",
        "### Apa Itu I/O?\n",
        "I/O adalah cara program berinteraksi dengan pengguna dan lingkungan, misalnya:\n",
        "- **Input:** Menerima data dari pengguna\n",
        "- **Output:** Menampilkan data ke layar atau menyimpannya ke file"
      ]
    },
    {
      "cell_type": "code",
      "execution_count": null,
      "metadata": {
        "id": "bqTQoR8qTyB2"
      },
      "outputs": [],
      "source": [
        "# 1. Input dari User\n",
        "# Kita bisa pakai `input()` untuk menerima data dari user:\n",
        "nama = input(\"Masukkan nama kamu: \")\n",
        "print(f\"Halo, {nama}! Selamat datang di bootcamp Python AI.\")"
      ]
    },
    {
      "cell_type": "code",
      "execution_count": null,
      "metadata": {
        "id": "zEhy3hUeTyB2"
      },
      "outputs": [],
      "source": [
        "# 2. Menulis ke File\n",
        "with open(\"output.txt\", \"w\") as file:\n",
        "    file.write(\"Ini adalah contoh teks yang disimpan di file.\")"
      ]
    },
    {
      "cell_type": "code",
      "execution_count": null,
      "metadata": {
        "id": "3Gl_KdTBTyB2"
      },
      "outputs": [],
      "source": [
        "# 3. Membaca file\n",
        "with open(\"output.txt\", \"r\") as file:\n",
        "    isi = file.read()\n",
        "    print(\"Isi file:\", isi)"
      ]
    },
    {
      "cell_type": "code",
      "execution_count": null,
      "metadata": {
        "id": "FK3lm5YpTyB2"
      },
      "outputs": [],
      "source": [
        "# 4. Menulis dan Membaca File CSV\n",
        "# CSV adalah format yang sering digunakan dalam data science dan AI\n",
        "import csv\n",
        "\n",
        "# Menulis ke file CSV\n",
        "with open(\"data.csv\", \"w\", newline=\"\") as file:\n",
        "    writer = csv.writer(file)\n",
        "    writer.writerow([\"Nama\", \"Usia\", \"Kota\"])\n",
        "    writer.writerow([\"Aldi\", 25, \"Jakarta\"])\n",
        "    writer.writerow([\"Nina\", 22, \"Bandung\"])\n",
        "\n",
        "# Membaca file CSV\n",
        "with open(\"data.csv\", \"r\") as file:\n",
        "    reader = csv.reader(file)\n",
        "    for row in reader:\n",
        "        print(row)"
      ]
    },
    {
      "cell_type": "markdown",
      "metadata": {
        "id": "ywGjVCaKTyB3"
      },
      "source": [
        "## Kesimpulan\n",
        "Setelah menyelesaikan modul onboarding ini, kamu sekarang sudah:\n",
        "- Setup codepaces\n",
        "- Menggunakan Jupyter Notebook langsung di codespaces\n",
        "- Mengaktifkan GitHub Copilot\n",
        "- Memahami dasar I/O di Python\n",
        "\n",
        "Selanjutnya, kita akan mulai belajar **Python Fundamentals**! 🎉"
      ]
    }
  ],
  "metadata": {
    "kernelspec": {
      "display_name": "myenv",
      "language": "python",
      "name": "python3"
    },
    "language_info": {
      "codemirror_mode": {
        "name": "ipython",
        "version": 3
      },
      "file_extension": ".py",
      "mimetype": "text/x-python",
      "name": "python",
      "nbconvert_exporter": "python",
      "pygments_lexer": "ipython3",
      "version": "3.10.0"
    },
    "colab": {
      "provenance": []
    }
  },
  "nbformat": 4,
  "nbformat_minor": 0
}