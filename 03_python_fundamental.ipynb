{
  "cells": [
    {
      "cell_type": "markdown",
      "metadata": {
        "id": "8nvoAyPXKwmE"
      },
      "source": [
        "# Python Fundamental\n",
        "## Struktur Dasar Python, Variabel, dan Manipulasi String\n"
      ]
    },
    {
      "cell_type": "markdown",
      "metadata": {
        "id": "IUb_McTRKwmE"
      },
      "source": [
        "### 1. Pengenalan Python\n",
        "Python adalah bahasa pemrograman yang sederhana dan mudah dibaca. Cocok untuk pemula karena sintaksnya menyerupai bahasa sehari-hari. Python digunakan untuk berbagai kebutuhan seperti pengembangan web, data science, AI, dan otomasi.\n"
      ]
    },
    {
      "cell_type": "markdown",
      "metadata": {
        "id": "wKD5bFr6KwmE"
      },
      "source": [
        "### 2. Struktur Dasar Program Python\n",
        "- Python membaca kode dari atas ke bawah.\n",
        "- Python menggunakan indentasi (spasi/tab) untuk menentukan blok kode.\n",
        "- Komentar ditandai dengan `#` dan tidak akan dijalankan oleh program.\n"
      ]
    },
    {
      "cell_type": "markdown",
      "metadata": {
        "id": "dGqA-oVzKwmE"
      },
      "source": [
        "#### **Print Statement**\n",
        "\n",
        "Untuk mencetak teks ke layar, gunakan fungsi print()."
      ]
    },
    {
      "cell_type": "code",
      "execution_count": null,
      "metadata": {
        "id": "F-ykD6xTKwmE"
      },
      "outputs": [],
      "source": [
        "# Menampilkan pesan ke layar\n",
        "print(\"Halo, dunia!\")"
      ]
    },
    {
      "cell_type": "markdown",
      "metadata": {
        "id": "1U_ZYDbyKwmF"
      },
      "source": [
        "#### **Komentar**\n",
        "\n",
        "Komentar adalah baris kode yang tidak dieksekusi oleh Python. Biasanya digunakan untuk menjelaskan kode."
      ]
    },
    {
      "cell_type": "code",
      "execution_count": null,
      "metadata": {
        "id": "Jo0oIPnXKwmF"
      },
      "outputs": [],
      "source": [
        "# Ini adalah komentar\n",
        "print(\"Hello, World!\")  # Komentar juga bisa di akhir baris"
      ]
    },
    {
      "cell_type": "markdown",
      "metadata": {
        "id": "_S0b3ie5KwmF"
      },
      "source": [
        "#### **Indentasi dalam Python**\n",
        "\n",
        "Python menggunakan **indentasi** untuk menentukan blok kode."
      ]
    },
    {
      "cell_type": "code",
      "execution_count": null,
      "metadata": {
        "id": "xpIwHPyYKwmF"
      },
      "outputs": [],
      "source": [
        "if True:\n",
        "    print(\"Indentasi adalah wajib!\")  # Indentasi dengan spasi/tab"
      ]
    },
    {
      "cell_type": "markdown",
      "metadata": {
        "id": "P-Tm7FYLKwmF"
      },
      "source": [
        "### 3. Variabel\n",
        "Variabel adalah tempat menyimpan data. Dalam Python, kita bisa langsung membuat variabel tanpa harus menentukan tipe datanya terlebih dahulu.\n"
      ]
    },
    {
      "cell_type": "markdown",
      "metadata": {
        "id": "r0zHi0ePKwmF"
      },
      "source": [
        "Contoh:\n",
        "```python\n",
        "nama = \"Mareta\"\n",
        "usia = 22\n",
        "tinggi = 160.5\n",
        "```\n"
      ]
    },
    {
      "cell_type": "markdown",
      "metadata": {
        "id": "ydn877BwKwmF"
      },
      "source": [
        "Penjelasan:\n",
        "- `nama` adalah variabel bertipe string.\n",
        "- `usia` adalah variabel bertipe integer.\n",
        "- `tinggi` adalah variabel bertipe float.\n"
      ]
    },
    {
      "cell_type": "markdown",
      "metadata": {
        "id": "Y-ywKZ9XKwmF"
      },
      "source": [
        "### 4. Tipe Data Dasar\n",
        "| Tipe Data | Contoh | Keterangan |\n",
        "|----------|--------|------------|\n",
        "| String   | \"Halo\" | Teks atau kumpulan karakter |\n",
        "| Integer  | 10     | Bilangan bulat |\n",
        "| Float    | 3.14   | Bilangan desimal |\n",
        "| Boolean  | True / False | Nilai benar atau salah |\n"
      ]
    },
    {
      "cell_type": "markdown",
      "metadata": {
        "id": "o-YNMn0tKwmF"
      },
      "source": [
        "### 5. Operasi pada String (String Manipulation)\n",
        "String dapat dimanipulasi dengan berbagai cara seperti penggabungan, pengubahan huruf, atau pengambilan karakter tertentu.\n"
      ]
    },
    {
      "cell_type": "markdown",
      "metadata": {
        "id": "5Lb7aSFIKwmG"
      },
      "source": [
        "### **Concatenation (+)**\n",
        "Menggabungkan string dengan +."
      ]
    },
    {
      "cell_type": "code",
      "execution_count": null,
      "metadata": {
        "id": "8SQX_cmMKwmG",
        "outputId": "25e56ddc-3e38-4c78-96b7-fb9505b9d75a"
      },
      "outputs": [
        {
          "name": "stdout",
          "output_type": "stream",
          "text": [
            "Mareta Ayu\n"
          ]
        }
      ],
      "source": [
        "nama_depan = \"Mareta\"\n",
        "nama_belakang = \"Ayu\"\n",
        "nama_lengkap = nama_depan + \" \" + nama_belakang\n",
        "print(nama_lengkap)"
      ]
    },
    {
      "cell_type": "markdown",
      "metadata": {
        "id": "0LPk9ZIHKwmG"
      },
      "source": [
        "### **Interpolation (f-string)**\n",
        "Cara lebih bersih untuk menggabungkan string dan variabel."
      ]
    },
    {
      "cell_type": "code",
      "execution_count": null,
      "metadata": {
        "id": "aLD70_JfKwmG"
      },
      "outputs": [],
      "source": [
        "nama = \"Mareta\"\n",
        "umur = 22\n",
        "print(f\"Nama saya {nama} dan umur saya {umur} tahun.\")\n",
        "# Output: Nama saya Mareta dan umur saya 22 tahun."
      ]
    },
    {
      "cell_type": "markdown",
      "source": [
        "### **Multiline f-string**\n",
        "F-string juga bisa digunakan untuk teks dengan banyak baris menggunakan tanda triple quotes (`'''` atau `\"\"\"`)"
      ],
      "metadata": {
        "id": "T2k1IYIxK64i"
      }
    },
    {
      "cell_type": "code",
      "source": [
        "nama = \"Mareta\"\n",
        "umur = 25\n",
        "hobi = \"membaca\"\n",
        "\n",
        "# Contoh multiline f-string dengan triple quotes\n",
        "biodata = f\"\"\"\n",
        "BIODATA\n",
        "================\n",
        "Nama        : {nama}\n",
        "Umur        : {umur} tahun\n",
        "Hobi        : {hobi}\n",
        "\"\"\"\n",
        "\n",
        "print(biodata)"
      ],
      "metadata": {
        "id": "kbdiIuAHK-Hj"
      },
      "execution_count": null,
      "outputs": []
    },
    {
      "cell_type": "markdown",
      "metadata": {
        "id": "3WDZTivgKwmG"
      },
      "source": [
        "### **len()**\n",
        "Menghitung panjang string (termasuk spasi)."
      ]
    },
    {
      "cell_type": "code",
      "execution_count": null,
      "metadata": {
        "id": "8nUf-qCWKwmG"
      },
      "outputs": [],
      "source": [
        "teks = \"Python\"\n",
        "print(len(teks))"
      ]
    },
    {
      "cell_type": "markdown",
      "metadata": {
        "id": "l5comsFwKwmG"
      },
      "source": [
        "### **lower()**\n",
        "Mengubah semua huruf menjadi kecil."
      ]
    },
    {
      "cell_type": "code",
      "execution_count": null,
      "metadata": {
        "id": "jUntaoUQKwmG"
      },
      "outputs": [],
      "source": [
        "teks = \"Halo Dunia\"\n",
        "print(teks.lower())"
      ]
    },
    {
      "cell_type": "markdown",
      "metadata": {
        "id": "PrYidn-XKwmG"
      },
      "source": [
        "### **strip()**\n",
        "Menghapus spasi di awal dan akhir string."
      ]
    },
    {
      "cell_type": "code",
      "execution_count": null,
      "metadata": {
        "id": "Tk_ZEXZtKwmG"
      },
      "outputs": [],
      "source": [
        "teks = \"   Python  \"\n",
        "print(teks.strip())"
      ]
    },
    {
      "cell_type": "markdown",
      "metadata": {
        "id": "hfXnUteLKwmG"
      },
      "source": [
        "### **replace()**\n",
        "Mengganti teks dalam string."
      ]
    },
    {
      "cell_type": "code",
      "execution_count": null,
      "metadata": {
        "id": "81UIi_H0KwmG"
      },
      "outputs": [],
      "source": [
        "teks = \"Saya suka kopi\"\n",
        "print(teks.replace(\"kopi\", \"teh\"))"
      ]
    },
    {
      "cell_type": "markdown",
      "metadata": {
        "id": "cU1x1uvVKwmG"
      },
      "source": [
        "### **upper()**\n",
        "Mengubah semua huruf menjadi besar."
      ]
    },
    {
      "cell_type": "code",
      "execution_count": null,
      "metadata": {
        "id": "q4-QrKOPKwmG"
      },
      "outputs": [],
      "source": [
        "teks = \"python\"\n",
        "print(teks.upper())"
      ]
    },
    {
      "cell_type": "markdown",
      "metadata": {
        "id": "N7hprVvTKwmG"
      },
      "source": [
        "### **Chaining**\n",
        "Menggabungkan beberapa metode string."
      ]
    },
    {
      "cell_type": "code",
      "execution_count": null,
      "metadata": {
        "id": "JRR9Y5vBKwmG"
      },
      "outputs": [],
      "source": [
        "teks = \"   Halo Dunia!   \"\n",
        "hasil = teks.strip().lower().replace(\"halo\", \"hi\")\n",
        "print(hasil)  # Output: hi dunia!\n",
        "\n",
        "# Penjelasan\n",
        "# step by step:\n",
        "# 1. teks strip (untuk ngilangin space) -> Halo Dunia!\n",
        "# 2. lower() -> untuk konversi ke karakter kecil -> halo dunia!\n",
        "# 3. replace() -> dia akan ganti karakter -> hi dunia!"
      ]
    },
    {
      "cell_type": "markdown",
      "metadata": {
        "id": "_cneskyqKwmG"
      },
      "source": [
        "# Tantangan\n",
        "Yuk kerjakan beberapa tantangan di bawah ini! Sebelum mengerjakan tantangan, jangan lupa masukkan student ID kamu ya!"
      ]
    },
    {
      "cell_type": "code",
      "execution_count": null,
      "metadata": {
        "id": "H5nbfUFvKwmH",
        "colab": {
          "base_uri": "https://localhost:8080/"
        },
        "outputId": "0ededb91-eaae-455b-e421-8cfce1982954"
      },
      "outputs": [
        {
          "output_type": "stream",
          "name": "stdout",
          "text": [
            "Collecting rggrader\n",
            "  Downloading rggrader-0.1.6-py3-none-any.whl.metadata (485 bytes)\n",
            "Requirement already satisfied: requests in /usr/local/lib/python3.11/dist-packages (from rggrader) (2.32.3)\n",
            "Requirement already satisfied: pandas in /usr/local/lib/python3.11/dist-packages (from rggrader) (2.2.2)\n",
            "Requirement already satisfied: Pillow in /usr/local/lib/python3.11/dist-packages (from rggrader) (11.2.1)\n",
            "Requirement already satisfied: numpy>=1.23.2 in /usr/local/lib/python3.11/dist-packages (from pandas->rggrader) (2.0.2)\n",
            "Requirement already satisfied: python-dateutil>=2.8.2 in /usr/local/lib/python3.11/dist-packages (from pandas->rggrader) (2.9.0.post0)\n",
            "Requirement already satisfied: pytz>=2020.1 in /usr/local/lib/python3.11/dist-packages (from pandas->rggrader) (2025.2)\n",
            "Requirement already satisfied: tzdata>=2022.7 in /usr/local/lib/python3.11/dist-packages (from pandas->rggrader) (2025.2)\n",
            "Requirement already satisfied: charset-normalizer<4,>=2 in /usr/local/lib/python3.11/dist-packages (from requests->rggrader) (3.4.2)\n",
            "Requirement already satisfied: idna<4,>=2.5 in /usr/local/lib/python3.11/dist-packages (from requests->rggrader) (3.10)\n",
            "Requirement already satisfied: urllib3<3,>=1.21.1 in /usr/local/lib/python3.11/dist-packages (from requests->rggrader) (2.4.0)\n",
            "Requirement already satisfied: certifi>=2017.4.17 in /usr/local/lib/python3.11/dist-packages (from requests->rggrader) (2025.4.26)\n",
            "Requirement already satisfied: six>=1.5 in /usr/local/lib/python3.11/dist-packages (from python-dateutil>=2.8.2->pandas->rggrader) (1.17.0)\n",
            "Downloading rggrader-0.1.6-py3-none-any.whl (2.5 kB)\n",
            "Installing collected packages: rggrader\n",
            "Successfully installed rggrader-0.1.6\n"
          ]
        }
      ],
      "source": [
        "%pip install rggrader\n",
        "\n",
        "from rggrader import submit\n",
        "\n",
        "# @title #### Student Identity\n",
        "student_id = \"JASMINE\"  # @param {type:\"string\"}\n",
        "name = \"Jasmine\"  # @param {type:\"string\"}"
      ]
    },
    {
      "cell_type": "markdown",
      "metadata": {
        "id": "LeZnoEREKwmH"
      },
      "source": [
        "## Tantangan 1: Pengubah String\n",
        "\n",
        "Buatlah program yang mengubah sebuah string input dengan ketentuan berikut:\n",
        "1. Hapus spasi di awal dan akhir string\n",
        "2. Ubah semua huruf menjadi kapital\n",
        "3. Ganti kata 'DAN' dengan '&'\n",
        "\n",
        "Contoh:\n",
        "- Input: '  Budi dan Ani  '\n",
        "- Output yang diharapkan: 'BUDI & ANI'"
      ]
    },
    {
      "cell_type": "code",
      "execution_count": null,
      "metadata": {
        "id": "WihuPPHfKwmH",
        "colab": {
          "base_uri": "https://localhost:8080/",
          "height": 53
        },
        "outputId": "980d7585-4db8-42a2-cd13-acbfc27219f8"
      },
      "outputs": [
        {
          "output_type": "stream",
          "name": "stdout",
          "text": [
            "PYTHON & JAVASCRIPT\n"
          ]
        },
        {
          "output_type": "execute_result",
          "data": {
            "text/plain": [
              "'Assignment successfully submitted'"
            ],
            "application/vnd.google.colaboratory.intrinsic+json": {
              "type": "string"
            }
          },
          "metadata": {},
          "execution_count": 6
        }
      ],
      "source": [
        "# @title #### 01. Pengubah String\n",
        "from rggrader import submit\n",
        "\n",
        "input_text = \"  Python dan JavaScript  \"\n",
        "\n",
        "# TODO:\n",
        "# Ubah input_text sesuai ketentuan berikut:\n",
        "# 1. Hapus spasi di awal dan akhir string\n",
        "# 2. Ubah semua huruf menjadi kapital\n",
        "# 3. Ganti kata 'DAN' dengan '&'\n",
        "# Simpan hasilnya dalam variabel 'transformed_text'\n",
        "#\n",
        "# Expected Output:\n",
        "# transformed_text = \"PYTHON & JAVASCRIPT\"  # Perhatikan: harus exact sama dengan output ini\n",
        "\n",
        "# Tulis kode kamu di sini:\n",
        "transformed_text = input_text\n",
        "print(transformed_text)  # Output: \"PYTHON & JAVASCRIPT\"\n",
        "\n",
        "# ---- Akhir dari kode kamu ----\n",
        "\n",
        "# Submit Method\n",
        "assignment_id = \"03_python-fundamental\"\n",
        "question_id = \"01_string_transformer\"\n",
        "submit(student_id, name, assignment_id, transformed_text, question_id)"
      ]
    },
    {
      "cell_type": "markdown",
      "metadata": {
        "id": "ParS2QKtKwmH"
      },
      "source": [
        "## Tantangan 2: Generator Biodata\n",
        "\n",
        "Buatlah program yang menghasilkan biodata lengkap menggunakan f-string dari variabel-variabel yang diberikan.\n",
        "Format output harus sesuai dengan contoh berikut:\n",
        "\n",
        "Contoh output yang diharapkan:\n",
        "```\n",
        "BIODATA LENGKAP\n",
        "Nama    : John Doe\n",
        "Usia    : 25 tahun\n",
        "Tinggi  : 170.5 cm\n",
        "Status  : Aktif\n",
        "```"
      ]
    },
    {
      "cell_type": "code",
      "execution_count": null,
      "metadata": {
        "id": "VtVhhYZgKwmH"
      },
      "outputs": [],
      "source": [
        "# @title #### 02. Generator Biodata\n",
        "from rggrader import submit\n",
        "\n",
        "# Variabel yang diberikan\n",
        "nama = \"John Doe\"\n",
        "usia = 25\n",
        "tinggi = 170.5\n",
        "status = \"Aktif\"\n",
        "\n",
        "# TODO:\n",
        "# Buat biodata terformat menggunakan f-string\n",
        "# Format output harus sesuai dengan contoh\n",
        "# Simpan hasilnya dalam variabel 'biodata'\n",
        "\n",
        "# Output setelah di-print akan terlihat seperti ini:\n",
        "# BIODATA LENGKAP\n",
        "# Nama    : John Doe\n",
        "# Usia    : 25 tahun\n",
        "# Tinggi  : 170.5 cm\n",
        "# Status  : Aktif\n",
        "\n",
        "# Tulis kode kamu di sini:\n",
        "biodata = \"\"\n",
        "\n",
        "# ---- Akhir dari kode kamu ----\n",
        "\n",
        "# Submit Method\n",
        "assignment_id = \"03_python-fundamental\"\n",
        "question_id = \"02_biodata-generator\"\n",
        "submit(student_id, name, assignment_id, biodata, question_id)"
      ]
    },
    {
      "cell_type": "markdown",
      "metadata": {
        "id": "c5mSgcQzKwmH"
      },
      "source": [
        "## Tantangan 3: Kalkulator String\n",
        "\n",
        "Buatlah program yang mengubah operasi penjumlahan menjadi kalimat yang menjelaskan operasi tersebut.\n",
        "\n",
        "Contoh:\n",
        "- Input: num1 = 10, num2 = 5\n",
        "- Output yang diharapkan: \"Hasil dari 10 tambah 5 adalah 15\""
      ]
    },
    {
      "cell_type": "code",
      "execution_count": null,
      "metadata": {
        "id": "3DYtu-6cKwmK",
        "colab": {
          "base_uri": "https://localhost:8080/"
        },
        "outputId": "8a089883-46e3-4eff-c3da-909e4d949092"
      },
      "outputs": [
        {
          "output_type": "execute_result",
          "data": {
            "text/plain": [
              "'Assignment successfully submitted'"
            ],
            "application/vnd.google.colaboratory.intrinsic+json": {
              "type": "string"
            }
          },
          "metadata": {},
          "execution_count": 4
        }
      ],
      "source": [
        "# @title #### 03. Kalkulator String\n",
        "from rggrader import submit\n",
        "\n",
        "# Variabel yang diberikan\n",
        "num1 = 10\n",
        "num2 = 5\n",
        "\n",
        "# TODO:\n",
        "# Buat kalimat yang menjelaskan operasi penjumlahan\n",
        "# Gunakan f-string untuk membuat kalimat yang menjelaskan operasi penjumlahan\n",
        "# dari num1 dan num2, lalu simpan hasilnya dalam variabel 'explanation'\n",
        "#\n",
        "# Expected Output:\n",
        "# explanation = \"Hasil dari 10 tambah 5 adalah 15\"\n",
        "#\n",
        "# Perhatikan:\n",
        "# - Spasi dan tanda baca harus sama persis!\n",
        "# - Format kalimat harus sesuai: \"Hasil dari {num1} tambah {num2} adalah {hasil}\"\n",
        "\n",
        "# Tulis kode kamu di sini:\n",
        "hasil = 0\n",
        "explanation = f\"\"\n",
        "\n",
        "# ---- Akhir dari kode kamu ----\n",
        "\n",
        "# Submit Method\n",
        "assignment_id = \"03_python-fundamental\"\n",
        "question_id = \"03_string-calculator\"\n",
        "submit(student_id, name, assignment_id, explanation, question_id)"
      ]
    }
  ],
  "metadata": {
    "kernelspec": {
      "display_name": "myenv",
      "language": "python",
      "name": "python3"
    },
    "language_info": {
      "codemirror_mode": {
        "name": "ipython",
        "version": 3
      },
      "file_extension": ".py",
      "mimetype": "text/x-python",
      "name": "python",
      "nbconvert_exporter": "python",
      "pygments_lexer": "ipython3",
      "version": "3.10.16"
    },
    "colab": {
      "provenance": []
    }
  },
  "nbformat": 4,
  "nbformat_minor": 0
}